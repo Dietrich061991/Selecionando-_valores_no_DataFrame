{
  "nbformat": 4,
  "nbformat_minor": 0,
  "metadata": {
    "colab": {
      "name": "Selecionando _valores_no_DataFrame",
      "provenance": [],
      "collapsed_sections": []
    },
    "kernelspec": {
      "name": "python3",
      "display_name": "Python 3"
    }
  },
  "cells": [
    {
      "cell_type": "markdown",
      "metadata": {
        "id": "zKgbkxk8jLWU",
        "colab_type": "text"
      },
      "source": [
        "Vamos aprender a seleionar valores em um DataFrame mas primeiro vamos criar um dicíonario com pandas para amazenar as notas dos alunos 'Maria','Jose', 'Witoria', depois armazena-lo em um DataFrame e por fim selecionar um valor no nossa DataFrame. Primeiro temos que importar a biblioteca pandas para criar o nosso dataframe. Lembrando que cada chave será uma coluna do DataFrame."
      ]
    },
    {
      "cell_type": "markdown",
      "metadata": {
        "id": "6HN_dU-eqBMA",
        "colab_type": "text"
      },
      "source": [
        "# **Importando a biblioteca Pandas**"
      ]
    },
    {
      "cell_type": "code",
      "metadata": {
        "id": "rAPjjgw8i4An",
        "colab_type": "code",
        "colab": {}
      },
      "source": [
        "import pandas as pd"
      ],
      "execution_count": null,
      "outputs": []
    },
    {
      "cell_type": "markdown",
      "metadata": {
        "id": "V_C7q3VYp7jw",
        "colab_type": "text"
      },
      "source": [
        "# **Criando um dicionário onde cada chave será uma coluna do DataFrame**"
      ]
    },
    {
      "cell_type": "code",
      "metadata": {
        "id": "hvhKPxF1jn2y",
        "colab_type": "code",
        "colab": {}
      },
      "source": [
        "# Criando um dicionário onde cada chave será uma coluna do DataFrame\n",
        "dicionario = {\n",
        "'Alunos':    ['Maria', 'Jose', 'Witoria'],\n",
        "'Historia':  [8, 9 ,10],\n",
        "'Geografia': [10, 9, 7]\n",
        "}"
      ],
      "execution_count": null,
      "outputs": []
    },
    {
      "cell_type": "code",
      "metadata": {
        "id": "K0v_MQfyjsKy",
        "colab_type": "code",
        "colab": {}
      },
      "source": [
        "#Criando o DataFrame\n",
        "df = pd.DataFrame(dicionario, columns=['Alunos','Historia','Geografia'])"
      ],
      "execution_count": null,
      "outputs": []
    },
    {
      "cell_type": "markdown",
      "metadata": {
        "id": "PZjqt8b1pwkd",
        "colab_type": "text"
      },
      "source": [
        "# **visualizando o DataFrame**"
      ]
    },
    {
      "cell_type": "code",
      "metadata": {
        "id": "_bZyJPYVj74-",
        "colab_type": "code",
        "colab": {
          "base_uri": "https://localhost:8080/",
          "height": 142
        },
        "outputId": "057ff31f-4ed1-426e-8654-1d09a6fb6ed3"
      },
      "source": [
        "# visualizando o DataFrame\n",
        "df"
      ],
      "execution_count": null,
      "outputs": [
        {
          "output_type": "execute_result",
          "data": {
            "text/html": [
              "<div>\n",
              "<style scoped>\n",
              "    .dataframe tbody tr th:only-of-type {\n",
              "        vertical-align: middle;\n",
              "    }\n",
              "\n",
              "    .dataframe tbody tr th {\n",
              "        vertical-align: top;\n",
              "    }\n",
              "\n",
              "    .dataframe thead th {\n",
              "        text-align: right;\n",
              "    }\n",
              "</style>\n",
              "<table border=\"1\" class=\"dataframe\">\n",
              "  <thead>\n",
              "    <tr style=\"text-align: right;\">\n",
              "      <th></th>\n",
              "      <th>Alunos</th>\n",
              "      <th>Historia</th>\n",
              "      <th>Geografia</th>\n",
              "    </tr>\n",
              "  </thead>\n",
              "  <tbody>\n",
              "    <tr>\n",
              "      <th>0</th>\n",
              "      <td>Maria</td>\n",
              "      <td>8</td>\n",
              "      <td>10</td>\n",
              "    </tr>\n",
              "    <tr>\n",
              "      <th>1</th>\n",
              "      <td>Jose</td>\n",
              "      <td>9</td>\n",
              "      <td>9</td>\n",
              "    </tr>\n",
              "    <tr>\n",
              "      <th>2</th>\n",
              "      <td>Witoria</td>\n",
              "      <td>10</td>\n",
              "      <td>7</td>\n",
              "    </tr>\n",
              "  </tbody>\n",
              "</table>\n",
              "</div>"
            ],
            "text/plain": [
              "    Alunos  Historia  Geografia\n",
              "0    Maria         8         10\n",
              "1     Jose         9          9\n",
              "2  Witoria        10          7"
            ]
          },
          "metadata": {
            "tags": []
          },
          "execution_count": 4
        }
      ]
    },
    {
      "cell_type": "markdown",
      "metadata": {
        "id": "vFwu38OtqQpx",
        "colab_type": "text"
      },
      "source": [
        "# **Selecionando os dados da aluna Maria**"
      ]
    },
    {
      "cell_type": "code",
      "metadata": {
        "id": "frHqDopGkJBA",
        "colab_type": "code",
        "colab": {
          "base_uri": "https://localhost:8080/",
          "height": 85
        },
        "outputId": "e11db3b8-4e2f-4a90-bc64-a6f74cbec1d5"
      },
      "source": [
        "#Selecionando os dados da aluna Maria \n",
        "df.loc[0]"
      ],
      "execution_count": null,
      "outputs": [
        {
          "output_type": "execute_result",
          "data": {
            "text/plain": [
              "Alunos       Maria\n",
              "Historia         8\n",
              "Geografia       10\n",
              "Name: 0, dtype: object"
            ]
          },
          "metadata": {
            "tags": []
          },
          "execution_count": 6
        }
      ]
    },
    {
      "cell_type": "markdown",
      "metadata": {
        "id": "vTqIXmChqfJ0",
        "colab_type": "text"
      },
      "source": [
        "# **Selecionando os dados do aluno jose** "
      ]
    },
    {
      "cell_type": "code",
      "metadata": {
        "id": "Fqh1peDXkwkD",
        "colab_type": "code",
        "colab": {
          "base_uri": "https://localhost:8080/",
          "height": 85
        },
        "outputId": "8c09f2c2-3177-4d7c-91d6-bcdd586db6b2"
      },
      "source": [
        "#Selecionando os dados d0 aluno jose \n",
        "df.loc[1]"
      ],
      "execution_count": null,
      "outputs": [
        {
          "output_type": "execute_result",
          "data": {
            "text/plain": [
              "Alunos       Jose\n",
              "Historia        9\n",
              "Geografia       9\n",
              "Name: 1, dtype: object"
            ]
          },
          "metadata": {
            "tags": []
          },
          "execution_count": 7
        }
      ]
    },
    {
      "cell_type": "markdown",
      "metadata": {
        "id": "JNPIn25Fqpst",
        "colab_type": "text"
      },
      "source": [
        "# **Selecionando os dados da aluna witoria** "
      ]
    },
    {
      "cell_type": "code",
      "metadata": {
        "id": "dbK3xW59k2oN",
        "colab_type": "code",
        "colab": {
          "base_uri": "https://localhost:8080/",
          "height": 85
        },
        "outputId": "62a1caed-b4e4-4203-e16a-83d578048798"
      },
      "source": [
        "#Selecionando os dados da aluna witoria \n",
        "df.loc[2]"
      ],
      "execution_count": null,
      "outputs": [
        {
          "output_type": "execute_result",
          "data": {
            "text/plain": [
              "Alunos       Witoria\n",
              "Historia          10\n",
              "Geografia          7\n",
              "Name: 2, dtype: object"
            ]
          },
          "metadata": {
            "tags": []
          },
          "execution_count": 8
        }
      ]
    },
    {
      "cell_type": "markdown",
      "metadata": {
        "id": "-ie0ElAVpcue",
        "colab_type": "text"
      },
      "source": [
        "# **Selecionando a primeira linha da coluna 'Alunos'**"
      ]
    },
    {
      "cell_type": "code",
      "metadata": {
        "id": "JaCWPtxBlH9j",
        "colab_type": "code",
        "colab": {
          "base_uri": "https://localhost:8080/",
          "height": 35
        },
        "outputId": "b17b4943-a689-4174-fb9c-f0b31396e876"
      },
      "source": [
        "#Selecionando a primeira linha da coluna 'Alunos'\n",
        "df.loc[0, 'Alunos']\n"
      ],
      "execution_count": null,
      "outputs": [
        {
          "output_type": "execute_result",
          "data": {
            "application/vnd.google.colaboratory.intrinsic": {
              "type": "string"
            },
            "text/plain": [
              "'Maria'"
            ]
          },
          "metadata": {
            "tags": []
          },
          "execution_count": 9
        }
      ]
    },
    {
      "cell_type": "markdown",
      "metadata": {
        "id": "CZfF6Ip-pldF",
        "colab_type": "text"
      },
      "source": [
        "# **Selecionando a segunda linha da coluna 'Geografia'**"
      ]
    },
    {
      "cell_type": "code",
      "metadata": {
        "id": "6xBXgII4mHcu",
        "colab_type": "code",
        "colab": {
          "base_uri": "https://localhost:8080/",
          "height": 34
        },
        "outputId": "1d7da996-269e-41af-9182-5e6a9e81cf2a"
      },
      "source": [
        "#Selecionando a segunda linha da coluna 'Geografia'\n",
        "df.loc[1, 'Geografia']"
      ],
      "execution_count": null,
      "outputs": [
        {
          "output_type": "execute_result",
          "data": {
            "text/plain": [
              "9"
            ]
          },
          "metadata": {
            "tags": []
          },
          "execution_count": 10
        }
      ]
    },
    {
      "cell_type": "markdown",
      "metadata": {
        "id": "lNwQgwQJrsLh",
        "colab_type": "text"
      },
      "source": [
        "# **Passando as notas da coluna Historia Para coluna Geografia e as notas da coluna Geografia para coluna historia**"
      ]
    },
    {
      "cell_type": "code",
      "metadata": {
        "id": "b8W5NhFXrRZg",
        "colab_type": "code",
        "colab": {}
      },
      "source": [
        "df[['Historia', 'Geografia']] = df[['Geografia', 'Historia']]"
      ],
      "execution_count": null,
      "outputs": []
    },
    {
      "cell_type": "code",
      "metadata": {
        "id": "NC8RzAZ4sScD",
        "colab_type": "code",
        "colab": {
          "base_uri": "https://localhost:8080/",
          "height": 142
        },
        "outputId": "48547cba-9ef1-4bbe-ab5c-b4783ed9311b"
      },
      "source": [
        "# visualizando\n",
        "df"
      ],
      "execution_count": null,
      "outputs": [
        {
          "output_type": "execute_result",
          "data": {
            "text/html": [
              "<div>\n",
              "<style scoped>\n",
              "    .dataframe tbody tr th:only-of-type {\n",
              "        vertical-align: middle;\n",
              "    }\n",
              "\n",
              "    .dataframe tbody tr th {\n",
              "        vertical-align: top;\n",
              "    }\n",
              "\n",
              "    .dataframe thead th {\n",
              "        text-align: right;\n",
              "    }\n",
              "</style>\n",
              "<table border=\"1\" class=\"dataframe\">\n",
              "  <thead>\n",
              "    <tr style=\"text-align: right;\">\n",
              "      <th></th>\n",
              "      <th>Alunos</th>\n",
              "      <th>Historia</th>\n",
              "      <th>Geografia</th>\n",
              "    </tr>\n",
              "  </thead>\n",
              "  <tbody>\n",
              "    <tr>\n",
              "      <th>0</th>\n",
              "      <td>Maria</td>\n",
              "      <td>10</td>\n",
              "      <td>8</td>\n",
              "    </tr>\n",
              "    <tr>\n",
              "      <th>1</th>\n",
              "      <td>Jose</td>\n",
              "      <td>9</td>\n",
              "      <td>9</td>\n",
              "    </tr>\n",
              "    <tr>\n",
              "      <th>2</th>\n",
              "      <td>Witoria</td>\n",
              "      <td>7</td>\n",
              "      <td>10</td>\n",
              "    </tr>\n",
              "  </tbody>\n",
              "</table>\n",
              "</div>"
            ],
            "text/plain": [
              "    Alunos  Historia  Geografia\n",
              "0    Maria        10          8\n",
              "1     Jose         9          9\n",
              "2  Witoria         7         10"
            ]
          },
          "metadata": {
            "tags": []
          },
          "execution_count": 19
        }
      ]
    },
    {
      "cell_type": "markdown",
      "metadata": {
        "id": "lxCP5T0Utbgm",
        "colab_type": "text"
      },
      "source": [
        "**Obs** isso nao é a maneira correta de passar os valores para outra coluna. "
      ]
    },
    {
      "cell_type": "markdown",
      "metadata": {
        "id": "_Wu38vBkt2ro",
        "colab_type": "text"
      },
      "source": [
        "# **Passando as notas da coluna Geografia Para coluna Historia e as notas da coluna Historia para coluna Geografia (maneira correta)**"
      ]
    },
    {
      "cell_type": "code",
      "metadata": {
        "id": "Snt4mm5UuFLE",
        "colab_type": "code",
        "colab": {}
      },
      "source": [
        "# importando a biblioteca numpy\n",
        "import numpy as np\n"
      ],
      "execution_count": null,
      "outputs": []
    },
    {
      "cell_type": "code",
      "metadata": {
        "id": "phy_ta26uMuK",
        "colab_type": "code",
        "colab": {}
      },
      "source": [
        "df.loc[:, ['Geografia', 'Historia']] = df[['Historia', 'Geografia']].to_numpy()"
      ],
      "execution_count": null,
      "outputs": []
    },
    {
      "cell_type": "code",
      "metadata": {
        "id": "aqla_18Yv25R",
        "colab_type": "code",
        "colab": {
          "base_uri": "https://localhost:8080/",
          "height": 142
        },
        "outputId": "0ab017b5-4738-4620-ee90-89a93939535e"
      },
      "source": [
        "#visualizando\n",
        "df"
      ],
      "execution_count": null,
      "outputs": [
        {
          "output_type": "execute_result",
          "data": {
            "text/html": [
              "<div>\n",
              "<style scoped>\n",
              "    .dataframe tbody tr th:only-of-type {\n",
              "        vertical-align: middle;\n",
              "    }\n",
              "\n",
              "    .dataframe tbody tr th {\n",
              "        vertical-align: top;\n",
              "    }\n",
              "\n",
              "    .dataframe thead th {\n",
              "        text-align: right;\n",
              "    }\n",
              "</style>\n",
              "<table border=\"1\" class=\"dataframe\">\n",
              "  <thead>\n",
              "    <tr style=\"text-align: right;\">\n",
              "      <th></th>\n",
              "      <th>Alunos</th>\n",
              "      <th>Historia</th>\n",
              "      <th>Geografia</th>\n",
              "    </tr>\n",
              "  </thead>\n",
              "  <tbody>\n",
              "    <tr>\n",
              "      <th>0</th>\n",
              "      <td>Maria</td>\n",
              "      <td>8</td>\n",
              "      <td>10</td>\n",
              "    </tr>\n",
              "    <tr>\n",
              "      <th>1</th>\n",
              "      <td>Jose</td>\n",
              "      <td>9</td>\n",
              "      <td>9</td>\n",
              "    </tr>\n",
              "    <tr>\n",
              "      <th>2</th>\n",
              "      <td>Witoria</td>\n",
              "      <td>10</td>\n",
              "      <td>7</td>\n",
              "    </tr>\n",
              "  </tbody>\n",
              "</table>\n",
              "</div>"
            ],
            "text/plain": [
              "    Alunos  Historia  Geografia\n",
              "0    Maria         8         10\n",
              "1     Jose         9          9\n",
              "2  Witoria        10          7"
            ]
          },
          "metadata": {
            "tags": []
          },
          "execution_count": 23
        }
      ]
    },
    {
      "cell_type": "markdown",
      "metadata": {
        "id": "IIknY8jC0Gq4",
        "colab_type": "text"
      },
      "source": [
        "# **Imprimindo as duas primeiras linhas do DataFrame (basta voce passar o numero de linha que voce quer visualizar**"
      ]
    },
    {
      "cell_type": "code",
      "metadata": {
        "id": "u7aQLUS_zxJh",
        "colab_type": "code",
        "colab": {
          "base_uri": "https://localhost:8080/",
          "height": 111
        },
        "outputId": "b551e623-bdac-40c3-cdd3-5ad85628e239"
      },
      "source": [
        "df[:2]"
      ],
      "execution_count": null,
      "outputs": [
        {
          "output_type": "execute_result",
          "data": {
            "text/html": [
              "<div>\n",
              "<style scoped>\n",
              "    .dataframe tbody tr th:only-of-type {\n",
              "        vertical-align: middle;\n",
              "    }\n",
              "\n",
              "    .dataframe tbody tr th {\n",
              "        vertical-align: top;\n",
              "    }\n",
              "\n",
              "    .dataframe thead th {\n",
              "        text-align: right;\n",
              "    }\n",
              "</style>\n",
              "<table border=\"1\" class=\"dataframe\">\n",
              "  <thead>\n",
              "    <tr style=\"text-align: right;\">\n",
              "      <th></th>\n",
              "      <th>Alunos</th>\n",
              "      <th>Historia</th>\n",
              "      <th>Geografia</th>\n",
              "    </tr>\n",
              "  </thead>\n",
              "  <tbody>\n",
              "    <tr>\n",
              "      <th>0</th>\n",
              "      <td>Maria</td>\n",
              "      <td>8</td>\n",
              "      <td>10</td>\n",
              "    </tr>\n",
              "    <tr>\n",
              "      <th>1</th>\n",
              "      <td>Jose</td>\n",
              "      <td>9</td>\n",
              "      <td>9</td>\n",
              "    </tr>\n",
              "  </tbody>\n",
              "</table>\n",
              "</div>"
            ],
            "text/plain": [
              "  Alunos  Historia  Geografia\n",
              "0  Maria         8         10\n",
              "1   Jose         9          9"
            ]
          },
          "metadata": {
            "tags": []
          },
          "execution_count": 36
        }
      ]
    },
    {
      "cell_type": "markdown",
      "metadata": {
        "id": "RDE7X3rK2o22",
        "colab_type": "text"
      },
      "source": [
        "# **Verificar se há notas inferiores a (O) na 'Geografia'** Ele retorna True caso existem e Falso caso nao existem."
      ]
    },
    {
      "cell_type": "code",
      "metadata": {
        "id": "apAQpAfD2Can",
        "colab_type": "code",
        "colab": {
          "base_uri": "https://localhost:8080/",
          "height": 85
        },
        "outputId": "41112936-2bb9-4a6d-85d7-43b4482599ce"
      },
      "source": [
        "df['Geografia'] < 0"
      ],
      "execution_count": null,
      "outputs": [
        {
          "output_type": "execute_result",
          "data": {
            "text/plain": [
              "0    False\n",
              "1    False\n",
              "2    False\n",
              "Name: Geografia, dtype: bool"
            ]
          },
          "metadata": {
            "tags": []
          },
          "execution_count": 40
        }
      ]
    },
    {
      "cell_type": "code",
      "metadata": {
        "id": "ifdJ1uQF6GlO",
        "colab_type": "code",
        "colab": {
          "base_uri": "https://localhost:8080/",
          "height": 49
        },
        "outputId": "09c22694-2d5f-412b-f99c-297cbaa0289a"
      },
      "source": [
        "# visualizando os valores da coluna Geografia que sao inferiores a 0\n",
        "df.loc[df['Geografia'] <0]"
      ],
      "execution_count": null,
      "outputs": [
        {
          "output_type": "execute_result",
          "data": {
            "text/html": [
              "<div>\n",
              "<style scoped>\n",
              "    .dataframe tbody tr th:only-of-type {\n",
              "        vertical-align: middle;\n",
              "    }\n",
              "\n",
              "    .dataframe tbody tr th {\n",
              "        vertical-align: top;\n",
              "    }\n",
              "\n",
              "    .dataframe thead th {\n",
              "        text-align: right;\n",
              "    }\n",
              "</style>\n",
              "<table border=\"1\" class=\"dataframe\">\n",
              "  <thead>\n",
              "    <tr style=\"text-align: right;\">\n",
              "      <th></th>\n",
              "      <th>Alunos</th>\n",
              "      <th>Historia</th>\n",
              "      <th>Geografia</th>\n",
              "    </tr>\n",
              "  </thead>\n",
              "  <tbody>\n",
              "  </tbody>\n",
              "</table>\n",
              "</div>"
            ],
            "text/plain": [
              "Empty DataFrame\n",
              "Columns: [Alunos, Historia, Geografia]\n",
              "Index: []"
            ]
          },
          "metadata": {
            "tags": []
          },
          "execution_count": 47
        }
      ]
    },
    {
      "cell_type": "markdown",
      "metadata": {
        "id": "S8h_3x7Y3qwx",
        "colab_type": "text"
      },
      "source": [
        "# **Verificar se há notas superiores a (5) na 'Geografia'** Ele retorna True caso existem e Falso caso nao existem."
      ]
    },
    {
      "cell_type": "code",
      "metadata": {
        "id": "WrVJLLlM3pgo",
        "colab_type": "code",
        "colab": {
          "base_uri": "https://localhost:8080/",
          "height": 85
        },
        "outputId": "9fbb2269-b1bf-40a2-d221-b7c412275628"
      },
      "source": [
        "df['Geografia'] > 5"
      ],
      "execution_count": null,
      "outputs": [
        {
          "output_type": "execute_result",
          "data": {
            "text/plain": [
              "0    True\n",
              "1    True\n",
              "2    True\n",
              "Name: Geografia, dtype: bool"
            ]
          },
          "metadata": {
            "tags": []
          },
          "execution_count": 42
        }
      ]
    },
    {
      "cell_type": "code",
      "metadata": {
        "id": "7ljiPfzL5zai",
        "colab_type": "code",
        "colab": {
          "base_uri": "https://localhost:8080/",
          "height": 142
        },
        "outputId": "5457cdcf-29d1-4568-b073-7a7156c585c4"
      },
      "source": [
        "# visualizando os valores da coluna Geografia que sao superiores a 5\n",
        "df.loc[df['Geografia'] > 5]"
      ],
      "execution_count": null,
      "outputs": [
        {
          "output_type": "execute_result",
          "data": {
            "text/html": [
              "<div>\n",
              "<style scoped>\n",
              "    .dataframe tbody tr th:only-of-type {\n",
              "        vertical-align: middle;\n",
              "    }\n",
              "\n",
              "    .dataframe tbody tr th {\n",
              "        vertical-align: top;\n",
              "    }\n",
              "\n",
              "    .dataframe thead th {\n",
              "        text-align: right;\n",
              "    }\n",
              "</style>\n",
              "<table border=\"1\" class=\"dataframe\">\n",
              "  <thead>\n",
              "    <tr style=\"text-align: right;\">\n",
              "      <th></th>\n",
              "      <th>Alunos</th>\n",
              "      <th>Historia</th>\n",
              "      <th>Geografia</th>\n",
              "    </tr>\n",
              "  </thead>\n",
              "  <tbody>\n",
              "    <tr>\n",
              "      <th>0</th>\n",
              "      <td>Maria</td>\n",
              "      <td>8</td>\n",
              "      <td>10</td>\n",
              "    </tr>\n",
              "    <tr>\n",
              "      <th>1</th>\n",
              "      <td>Jose</td>\n",
              "      <td>9</td>\n",
              "      <td>9</td>\n",
              "    </tr>\n",
              "    <tr>\n",
              "      <th>2</th>\n",
              "      <td>Witoria</td>\n",
              "      <td>10</td>\n",
              "      <td>7</td>\n",
              "    </tr>\n",
              "  </tbody>\n",
              "</table>\n",
              "</div>"
            ],
            "text/plain": [
              "    Alunos  Historia  Geografia\n",
              "0    Maria         8         10\n",
              "1     Jose         9          9\n",
              "2  Witoria        10          7"
            ]
          },
          "metadata": {
            "tags": []
          },
          "execution_count": 46
        }
      ]
    },
    {
      "cell_type": "markdown",
      "metadata": {
        "id": "jN78ZiVP4g1J",
        "colab_type": "text"
      },
      "source": [
        "# **Verificar se há notas igual a (9) na 'Geografia'** Ele retorna True caso existem e Falso caso nao existem."
      ]
    },
    {
      "cell_type": "code",
      "metadata": {
        "id": "kFM1UW2X4HIw",
        "colab_type": "code",
        "colab": {
          "base_uri": "https://localhost:8080/",
          "height": 85
        },
        "outputId": "941dcb32-9322-46e5-acd8-9e9c991901d7"
      },
      "source": [
        "df['Geografia'] == 9"
      ],
      "execution_count": null,
      "outputs": [
        {
          "output_type": "execute_result",
          "data": {
            "text/plain": [
              "0    False\n",
              "1     True\n",
              "2    False\n",
              "Name: Geografia, dtype: bool"
            ]
          },
          "metadata": {
            "tags": []
          },
          "execution_count": 43
        }
      ]
    },
    {
      "cell_type": "code",
      "metadata": {
        "id": "VcPmw3lj5DK3",
        "colab_type": "code",
        "colab": {
          "base_uri": "https://localhost:8080/",
          "height": 80
        },
        "outputId": "1dea72cc-b226-461c-fb19-ba7134cd7b8a"
      },
      "source": [
        "# visualizando os valores da coluna Geografia que sao iguais as 9\n",
        "df.loc[df['Geografia'] == 9]\n"
      ],
      "execution_count": null,
      "outputs": [
        {
          "output_type": "execute_result",
          "data": {
            "text/html": [
              "<div>\n",
              "<style scoped>\n",
              "    .dataframe tbody tr th:only-of-type {\n",
              "        vertical-align: middle;\n",
              "    }\n",
              "\n",
              "    .dataframe tbody tr th {\n",
              "        vertical-align: top;\n",
              "    }\n",
              "\n",
              "    .dataframe thead th {\n",
              "        text-align: right;\n",
              "    }\n",
              "</style>\n",
              "<table border=\"1\" class=\"dataframe\">\n",
              "  <thead>\n",
              "    <tr style=\"text-align: right;\">\n",
              "      <th></th>\n",
              "      <th>Alunos</th>\n",
              "      <th>Historia</th>\n",
              "      <th>Geografia</th>\n",
              "    </tr>\n",
              "  </thead>\n",
              "  <tbody>\n",
              "    <tr>\n",
              "      <th>1</th>\n",
              "      <td>Jose</td>\n",
              "      <td>9</td>\n",
              "      <td>9</td>\n",
              "    </tr>\n",
              "  </tbody>\n",
              "</table>\n",
              "</div>"
            ],
            "text/plain": [
              "  Alunos  Historia  Geografia\n",
              "1   Jose         9          9"
            ]
          },
          "metadata": {
            "tags": []
          },
          "execution_count": 45
        }
      ]
    },
    {
      "cell_type": "markdown",
      "metadata": {
        "id": "fNccamM28Bow",
        "colab_type": "text"
      },
      "source": [
        "# **Visualizando apenas as notas dos alunos Maria e witoria.**"
      ]
    },
    {
      "cell_type": "code",
      "metadata": {
        "id": "D_RixKjp7hGL",
        "colab_type": "code",
        "colab": {
          "base_uri": "https://localhost:8080/",
          "height": 111
        },
        "outputId": "3dc8f81e-99d5-4a2b-d281-37612eb7ecfd"
      },
      "source": [
        "df.loc[df.index[[0, 2]]]"
      ],
      "execution_count": null,
      "outputs": [
        {
          "output_type": "execute_result",
          "data": {
            "text/html": [
              "<div>\n",
              "<style scoped>\n",
              "    .dataframe tbody tr th:only-of-type {\n",
              "        vertical-align: middle;\n",
              "    }\n",
              "\n",
              "    .dataframe tbody tr th {\n",
              "        vertical-align: top;\n",
              "    }\n",
              "\n",
              "    .dataframe thead th {\n",
              "        text-align: right;\n",
              "    }\n",
              "</style>\n",
              "<table border=\"1\" class=\"dataframe\">\n",
              "  <thead>\n",
              "    <tr style=\"text-align: right;\">\n",
              "      <th></th>\n",
              "      <th>Alunos</th>\n",
              "      <th>Historia</th>\n",
              "      <th>Geografia</th>\n",
              "    </tr>\n",
              "  </thead>\n",
              "  <tbody>\n",
              "    <tr>\n",
              "      <th>0</th>\n",
              "      <td>Maria</td>\n",
              "      <td>8</td>\n",
              "      <td>10</td>\n",
              "    </tr>\n",
              "    <tr>\n",
              "      <th>2</th>\n",
              "      <td>Witoria</td>\n",
              "      <td>10</td>\n",
              "      <td>7</td>\n",
              "    </tr>\n",
              "  </tbody>\n",
              "</table>\n",
              "</div>"
            ],
            "text/plain": [
              "    Alunos  Historia  Geografia\n",
              "0    Maria         8         10\n",
              "2  Witoria        10          7"
            ]
          },
          "metadata": {
            "tags": []
          },
          "execution_count": 49
        }
      ]
    },
    {
      "cell_type": "markdown",
      "metadata": {
        "id": "NZddwmQj8ZYI",
        "colab_type": "text"
      },
      "source": [
        "# **Visualizando apenas as notas de Geografia dos alunos Maria e witoria.**"
      ]
    },
    {
      "cell_type": "code",
      "metadata": {
        "id": "UFQl0Ou38lte",
        "colab_type": "code",
        "colab": {
          "base_uri": "https://localhost:8080/",
          "height": 68
        },
        "outputId": "6fcd9678-ad8c-4124-f912-d39b1ec21d47"
      },
      "source": [
        "df.loc[df.index[[0, 2]], 'Geografia']"
      ],
      "execution_count": null,
      "outputs": [
        {
          "output_type": "execute_result",
          "data": {
            "text/plain": [
              "0    10\n",
              "2     7\n",
              "Name: Geografia, dtype: int64"
            ]
          },
          "metadata": {
            "tags": []
          },
          "execution_count": 50
        }
      ]
    },
    {
      "cell_type": "markdown",
      "metadata": {
        "id": "Z0ztPmGG_DFT",
        "colab_type": "text"
      },
      "source": [
        "# **Selecionando a nota maxima na coluna Geografia**"
      ]
    },
    {
      "cell_type": "code",
      "metadata": {
        "id": "FSj3rb96-lhU",
        "colab_type": "code",
        "colab": {
          "base_uri": "https://localhost:8080/",
          "height": 34
        },
        "outputId": "02026888-3b5f-4a79-ae9b-590be410551f"
      },
      "source": [
        "df['Geografia'].max()"
      ],
      "execution_count": null,
      "outputs": [
        {
          "output_type": "execute_result",
          "data": {
            "text/plain": [
              "10"
            ]
          },
          "metadata": {
            "tags": []
          },
          "execution_count": 52
        }
      ]
    },
    {
      "cell_type": "markdown",
      "metadata": {
        "id": "YMgtX0BZ_UAI",
        "colab_type": "text"
      },
      "source": [
        "# **Selecionando a nota minima na coluna Geografia**"
      ]
    },
    {
      "cell_type": "code",
      "metadata": {
        "id": "fI_REnhR_cfI",
        "colab_type": "code",
        "colab": {
          "base_uri": "https://localhost:8080/",
          "height": 34
        },
        "outputId": "1a3c2cb3-1302-4c01-8609-60176835fbd3"
      },
      "source": [
        "df['Geografia'].min()"
      ],
      "execution_count": null,
      "outputs": [
        {
          "output_type": "execute_result",
          "data": {
            "text/plain": [
              "7"
            ]
          },
          "metadata": {
            "tags": []
          },
          "execution_count": 53
        }
      ]
    }
  ]
}